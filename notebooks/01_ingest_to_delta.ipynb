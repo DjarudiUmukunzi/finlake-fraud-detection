{
 "cells": [
  {
   "cell_type": "code",
   "execution_count": 0,
   "metadata": {
    "application/vnd.databricks.v1+cell": {
     "cellMetadata": {},
     "inputWidgets": {},
     "nuid": "188247e7-5a77-436a-9ab7-937f0faddb03",
     "showTitle": false,
     "tableResultSettingsMap": {},
     "title": ""
    }
   },
   "outputs": [],
   "source": [
    "# First, test if secrets are accessible\n",
    "try:\n",
    "    client_id = dbutils.secrets.get(scope=\"finlake_scope\", key=\"sp-client-id\")\n",
    "    client_secret = dbutils.secrets.get(scope=\"finlake_scope\", key=\"sp-client-secret\")\n",
    "    tenant_id = dbutils.secrets.get(scope=\"finlake_scope\", key=\"tenant-id\")\n",
    "    \n",
    "    print(\"Secrets retrieved successfully:\")\n",
    "    print(f\"   Client ID: {client_id}\")\n",
    "    print(f\"   Client Secret: {'*' * len(client_secret)}\")\n",
    "    \n",
    "    print(f\"   Tenant ID: {tenant_id}\")\n",
    "    \n",
    "except Exception as e:\n",
    "    print(f\"Error retrieving secrets: {e}\")"
   ]
  },
  {
   "cell_type": "code",
   "execution_count": 0,
   "metadata": {
    "application/vnd.databricks.v1+cell": {
     "cellMetadata": {
      "byteLimit": 2048000,
      "rowLimit": 10000
     },
     "inputWidgets": {},
     "nuid": "a734f4dd-662a-4bd3-a161-e15a533c9886",
     "showTitle": false,
     "tableResultSettingsMap": {},
     "title": ""
    }
   },
   "outputs": [],
   "source": [
    "# --- 01_ingest_to_delta ---\n",
    "# Databricks notebook (Python)\n",
    "\n",
    "# =============================\n",
    "# 1 WIDGETS / PARAMETERS\n",
    "# =============================\n",
    "dbutils.widgets.text(\"input_path\", \"\")     \n",
    "dbutils.widgets.text(\"raw_delta_path\", \"abfss://raw@finlakeadlsa3b3.dfs.core.windows.net/delta/raw_transactions\")\n",
    "dbutils.widgets.text(\"ingest_date\", \"\")    \n",
    "dbutils.widgets.text(\"file_pattern\", \"*.csv\") \n",
    "\n",
    "input_path = dbutils.widgets.get(\"input_path\").strip()\n",
    "raw_delta_path = dbutils.widgets.get(\"raw_delta_path\").strip()\n",
    "ingest_date = dbutils.widgets.get(\"ingest_date\").strip()\n",
    "file_pattern = dbutils.widgets.get(\"file_pattern\").strip()\n",
    "\n",
    "print(\"=== PARAMETERS ===\")\n",
    "print(f\"input_path: {input_path}\")\n",
    "print(f\"raw_delta_path: {raw_delta_path}\")\n",
    "print(f\"ingest_date: {ingest_date}\")\n",
    "print(f\"file_pattern: {file_pattern}\")\n",
    "print(\"===================\")\n",
    "\n",
    "# =============================\n",
    "# 2 IMPORTS & CONFIG\n",
    "# =============================\n",
    "from pyspark.sql import functions as F\n",
    "from pyspark.sql.utils import AnalysisException\n",
    "\n",
    "# Storage account details\n",
    "storage_account = \"finlakeadlsa3b3\"\n",
    "container = \"raw\"\n",
    "\n",
    "# This securely fetches the key from your Key Vault at runtime.\n",
    "spark.conf.set(\n",
    "  \"fs.azure.account.key.finlakeadlsa3b3.dfs.core.windows.net\",\n",
    "  dbutils.secrets.get(scope=\"finlake_scope\", key=\"adls-key\")\n",
    ")\n",
    "\n",
    "# =============================\n",
    "# 3 BUILD INPUT PATH (Auto-detect)\n",
    "# =============================\n",
    "\n",
    "if input_path.startswith(\"abfss://\"):\n",
    "    csv_path = input_path if input_path.endswith(\"/\") else input_path + \"/\"\n",
    "\n",
    "elif len(input_path) == 10 and input_path.count(\"-\") == 2:\n",
    "    # user entered only a date, e.g. \"2025-10-10\"\n",
    "    csv_path = f\"abfss://{container}@{storage_account}.dfs.core.windows.net/{input_path}/\"\n",
    "\n",
    "elif input_path.lower() in [\"\", \"delta\", \"raw\", \"input\"]:\n",
    "    # fallback default location for safety\n",
    "    csv_path = f\"abfss://{container}@{storage_account}.dfs.core.windows.net/{ingest_date}/\"\n",
    "\n",
    "else:\n",
    "    # assume it's a subfolder path\n",
    "    csv_path = f\"abfss://{container}@{storage_account}.dfs.core.windows.net/{input_path}/\"\n",
    "\n",
    "csv_path = csv_path + file_pattern\n",
    "print(f\"Resolved CSV path: {csv_path}\")\n",
    "\n",
    "# =============================\n",
    "# 4 READ CSV INTO DATAFRAME\n",
    "# =============================\n",
    "try:\n",
    "    df = (spark.read\n",
    "          .option(\"header\", \"true\")\n",
    "          .option(\"inferSchema\", \"true\")\n",
    "          .csv(csv_path))\n",
    "    print(\"Successfully read input files\")\n",
    "except AnalysisException as e:\n",
    "    print(f\"ERROR: Could not read input files. Check if folder exists: {csv_path}\")\n",
    "    print(str(e))\n",
    "    raise e\n",
    "\n",
    "print(f\"Row count: {df.count()}\")\n",
    "display(df.limit(5))\n",
    "\n",
    "# =============================\n",
    "# 5 ADD METADATA COLUMNS\n",
    "# =============================\n",
    "if \"ingest_date\" not in df.columns:\n",
    "    df = df.withColumn(\"ingest_date\", F.lit(ingest_date if ingest_date else F.current_date()))\n",
    "\n",
    "df = df.withColumn(\"load_ts\", F.current_timestamp())\n",
    "\n",
    "# =============================\n",
    "# 6 WRITE TO RAW DELTA TABLE\n",
    "# =============================\n",
    "(\n",
    "    df.write\n",
    "      .format(\"delta\")\n",
    "      .mode(\"append\")\n",
    "      .partitionBy(\"ingest_date\")\n",
    "      .save(raw_delta_path)\n",
    ")\n",
    "\n",
    "print(f\"Wrote raw Delta table to: {raw_delta_path}\")\n",
    "print(\"Ingestion completed successfully.\")\n",
    "display(df.limit(5))"
   ]
  }
 ],
 "metadata": {
  "application/vnd.databricks.v1+notebook": {
   "computePreferences": null,
   "dashboards": [],
   "environmentMetadata": {
    "base_environment": "",
    "environment_version": "3"
   },
   "inputWidgetPreferences": null,
   "language": "python",
   "notebookMetadata": {
    "pythonIndentUnit": 4
   },
   "notebookName": "01_ingest_to_delta",
   "widgets": {
    "file_pattern": {
     "currentValue": "*.csv",
     "nuid": "585b11f8-6b6f-404c-ab5f-595c0ea00428",
     "typedWidgetInfo": {
      "autoCreated": false,
      "defaultValue": "*.csv",
      "label": null,
      "name": "file_pattern",
      "options": {
       "widgetDisplayType": "Text",
       "validationRegex": null
      },
      "parameterDataType": "String"
     },
     "widgetInfo": {
      "widgetType": "text",
      "defaultValue": "*.csv",
      "label": null,
      "name": "file_pattern",
      "options": {
       "widgetType": "text",
       "autoCreated": null,
       "validationRegex": null
      }
     }
    },
    "ingest_date": {
     "currentValue": "",
     "nuid": "c02ac019-e4a9-4e5c-b1a1-190116b35798",
     "typedWidgetInfo": {
      "autoCreated": false,
      "defaultValue": "2025-10-10",
      "label": null,
      "name": "ingest_date",
      "options": {
       "widgetDisplayType": "Text",
       "validationRegex": null
      },
      "parameterDataType": "String"
     },
     "widgetInfo": {
      "widgetType": "text",
      "defaultValue": "2025-10-10",
      "label": null,
      "name": "ingest_date",
      "options": {
       "widgetType": "text",
       "autoCreated": null,
       "validationRegex": null
      }
     }
    },
    "input_path": {
     "currentValue": "",
     "nuid": "00f2944d-4938-4c8d-8ec3-b3252c55f3a4",
     "typedWidgetInfo": {
      "autoCreated": false,
      "defaultValue": "",
      "label": null,
      "name": "input_path",
      "options": {
       "widgetDisplayType": "Text",
       "validationRegex": null
      },
      "parameterDataType": "String"
     },
     "widgetInfo": {
      "widgetType": "text",
      "defaultValue": "",
      "label": null,
      "name": "input_path",
      "options": {
       "widgetType": "text",
       "autoCreated": null,
       "validationRegex": null
      }
     }
    },
    "raw_delta_path": {
     "currentValue": "abfss://raw@finlakeadlsxyz.dfs.core.windows.net/delta/raw_transactions",
     "nuid": "fa855b3f-627e-4cfd-81d2-ce8878371321",
     "typedWidgetInfo": {
      "autoCreated": false,
      "defaultValue": "abfss://raw@finlakeadlsa3b3.dfs.core.windows.net/delta/raw_transactions",
      "label": null,
      "name": "raw_delta_path",
      "options": {
       "widgetDisplayType": "Text",
       "validationRegex": null
      },
      "parameterDataType": "String"
     },
     "widgetInfo": {
      "widgetType": "text",
      "defaultValue": "abfss://raw@finlakeadlsa3b3.dfs.core.windows.net/delta/raw_transactions",
      "label": null,
      "name": "raw_delta_path",
      "options": {
       "widgetType": "text",
       "autoCreated": null,
       "validationRegex": null
      }
     }
    }
   }
  },
  "language_info": {
   "name": "python"
  }
 },
 "nbformat": 4,
 "nbformat_minor": 0
}
